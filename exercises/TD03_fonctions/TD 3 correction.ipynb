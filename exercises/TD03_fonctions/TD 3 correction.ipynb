{
  "nbformat": 4,
  "nbformat_minor": 0,
  "metadata": {
    "colab": {
      "name": "Untitled5.ipynb",
      "provenance": [],
      "collapsed_sections": []
    },
    "kernelspec": {
      "name": "python3",
      "display_name": "Python 3"
    }
  },
  "cells": [
    {
      "cell_type": "code",
      "metadata": {
        "id": "0dnZCZF1AVcz",
        "outputId": "1dd7b81a-293d-4572-e929-602156f17d08",
        "colab": {
          "base_uri": "https://localhost:8080/"
        }
      },
      "source": [
        "#temps[0] : jours, temps[1]: minutes, temps[2]: minutes, temps[3]: secondes\n",
        "\n",
        "def tempsEnSeconde(temps):\n",
        "    \"\"\" Renvoie la valeur en seconde de temps donné comme jour, heure, minute, seconde.\"\"\"\n",
        "    return (((temps[0] * 24) + temps[1])*60 + temps[2])*60 + temps[3]\n",
        "\n",
        "\n",
        "temps = (3,23,1,34)\n",
        "print(type(temps))\n",
        "print(tempsEnSeconde(temps))   \n",
        "\n",
        "def secondeEnTemps(seconde):\n",
        "    \"\"\"Renvoie le temps (jour, heure, minute, seconde) qui correspond au nombre de seconde passé en argument\"\"\"\n",
        "    minute = seconde // 60\n",
        "    seconde %= 60\n",
        "    heure = minute // 60\n",
        "    minute %= 60\n",
        "    jour = heure // 24\n",
        "    heure %= 24\n",
        "    return (jour, heure, minute, seconde)\n",
        "    \n",
        "temps = secondeEnTemps(100000)\n",
        "print(temps[0],\"jours\",temps[1],\"heures\",temps[2],\"minutes\",temps[3],\"secondes\")"
      ],
      "execution_count": 2,
      "outputs": [
        {
          "output_type": "stream",
          "name": "stdout",
          "text": [
            "<class 'tuple'>\n342094\n1 jours 3 heures 46 minutes 40 secondes\n"
          ]
        }
      ]
    },
    {
      "cell_type": "code",
      "metadata": {
        "id": "sqzY3b-uGN0k",
        "outputId": "149483dd-5e34-47d8-d4dc-3b9bac81e8cf",
        "colab": {
          "base_uri": "https://localhost:8080/"
        }
      },
      "source": [
        "def affichePluriel(val,mot):\n",
        "    if val != 0:\n",
        "      print(\"\",val,mot,end = \"\")\n",
        "    if val > 1:\n",
        "      print(\"s\",end = \"\")\n",
        "\n",
        "def afficheTemps(temps):\n",
        "    affichePluriel(temps[0],\"jour\")\n",
        "    affichePluriel(temps[1],\"heure\")\n",
        "    affichePluriel(temps[2],\"minute\")\n",
        "    affichePluriel(temps[3],\"seconde\")\n",
        "    print(\"\")\n",
        "    \n",
        "afficheTemps((1,0,14,23))   "
      ],
      "execution_count": 3,
      "outputs": [
        {
          "output_type": "stream",
          "name": "stdout",
          "text": [
            " 1 jour 14 minutes 23 secondes\n"
          ]
        }
      ]
    },
    {
      "cell_type": "code",
      "metadata": {
        "id": "ILDroKvzH077",
        "outputId": "58a9e103-fb72-4d68-d0ca-fe17c8f26d4f",
        "colab": {
          "base_uri": "https://localhost:8080/"
        }
      },
      "source": [
        "def demandeTemps():\n",
        "    jour = int(input(\"Combien de jours\"))\n",
        "    heure = int(input(\"Combien d'heures\"))\n",
        "    minute = int(input(\"Combien de minutes\"))\n",
        "    seconde = int(input(\"Combien de seconde\"))\n",
        "    if (seconde > 59 or minute > 59 or heure > 23):\n",
        "      print(\"Entrée mal formée, ça n'est pas une date.\")\n",
        "      return (0,0,0,0)\n",
        "    return (jour,heure,minute,seconde)\n",
        "\n",
        "afficheTemps(demandeTemps())\n",
        "\n"
      ],
      "execution_count": 4,
      "outputs": [
        {
          "output_type": "stream",
          "name": "stdout",
          "text": [
            " 8 jours 8 heures 8 minutes 8 secondes\n"
          ]
        }
      ]
    },
    {
      "cell_type": "code",
      "metadata": {
        "id": "jJTh9QNcIgqL",
        "outputId": "cb640b5b-5b10-4a7c-a989-adfcf15efc7e",
        "colab": {
          "base_uri": "https://localhost:8080/"
        }
      },
      "source": [
        "def sommeTemps(temps1,temps2):\n",
        "    return secondeEnTemps(tempsEnSeconde(temps1) + tempsEnSeconde(temps2))\n",
        "\n",
        "sommeTemps((2,3,4,25),(5,22,57,1))\n",
        "print(sommeTemps)"
      ],
      "execution_count": 5,
      "outputs": [
        {
          "output_type": "stream",
          "name": "stdout",
          "text": [
            "<function sommeTemps at 0x00000168A9BC8670>\n"
          ]
        }
      ]
    },
    {
      "cell_type": "code",
      "metadata": {
        "id": "X4Yx8YdAcRrX"
      },
      "source": [
        "def verifie_temps(temps, moment, limite):    \n",
        "  while int(temps) > limite:  \n",
        "    message = \"Rentrer un nombre d\"+ (\"'\" if moment == 'heures' else 'e ') + moment        \n",
        "    temps = input(message)     \n",
        "    return temp\n",
        "\n",
        "def demandeTemps():   \n",
        "  jours = input(\"Rentrer un nombre du jour\")   \n",
        "  heures = input(\"Rentrer un nombre d'heures\")    \n",
        "  verifie_temps(heures, 'heures', 23)  \n",
        "  minutes = input(\"Rentrer un nombre de minutes\")    \n",
        "  verifie_temps(minutes, 'minutes', 59)    \n",
        "  secondes = input(\"Rentrer un nombre de secondes\")    \n",
        "  verifie_temps(secondes, 'secondes', 59)   \n",
        "  return (int(jours), int(heures), int(minutes), int(secondes))\n",
        "  afficheTemps(demandeTemps())# problème d'erreur du temps"
      ],
      "execution_count": 12,
      "outputs": []
    },
    {
      "cell_type": "code",
      "metadata": {
        "id": "OVc1Q8v-KzmC",
        "outputId": "82e87acb-6aa2-49ac-b73b-afc059478934",
        "colab": {
          "base_uri": "https://localhost:8080/"
        }
      },
      "source": [
        "def proportionTemps(temps,proportion):\n",
        "    return secondeEnTemps(int(tempsEnSeconde(temps)*proportion))\n",
        "afficheTemps(proportionTemps((2,0,36,0),0.2))\n",
        "\n",
        "#appeler la fonction en échangeant l'ordre des arguments\n",
        "afficheTemps(proportionTemps(proportion = 0.2, temps = (2,0,36,0)))"
      ],
      "execution_count": 7,
      "outputs": [
        {
          "output_type": "stream",
          "name": "stdout",
          "text": [
            " 9 heures 43 minutes 12 secondes\n 9 heures 43 minutes 12 secondes\n"
          ]
        }
      ]
    },
    {
      "cell_type": "code",
      "metadata": {
        "id": "rlI91_FyLzKD",
        "outputId": "29545810-0585-4aec-865c-aa24223589be",
        "colab": {
          "base_uri": "https://localhost:8080/"
        }
      },
      "source": [
        "import time\n",
        "def tempsEnDate(temps):\n",
        "    jour, heure, minute, seconde = temps\n",
        "    annee = 1970 + jour // 365\n",
        "    jour %= 365 \n",
        "    return (annee, jour, heure, minute, seconde)\n",
        "\n",
        "def afficheDate(date = -1):\n",
        "    if date == -1:\n",
        "      date = tempsEnDate(secondeEnTemps(int(time.time())))\n",
        "    annee, jour, heure, minute, seconde = date\n",
        "    print(\"Année\", annee, end = \" \")\n",
        "    afficheTemps((jour%365, heure, minute, seconde))\n",
        "    \n",
        "temps = secondeEnTemps(1000000000)\n",
        "afficheTemps(temps)\n",
        "afficheDate(tempsEnDate(temps))\n",
        "afficheDate()\n",
        "\n"
      ],
      "execution_count": 8,
      "outputs": [
        {
          "output_type": "stream",
          "name": "stdout",
          "text": [
            " 11574 jours 1 heure 46 minutes 40 secondes\nAnnée 2001  259 jours 1 heure 46 minutes 40 secondes\nAnnée 2020  336 jours 22 heures 2 minutes 53 secondes\n"
          ]
        }
      ]
    },
    {
      "cell_type": "code",
      "metadata": {
        "id": "0GYXqvduOO2U",
        "outputId": "1f85e804-afe8-4883-b656-36fdc2438d26",
        "colab": {
          "base_uri": "https://localhost:8080/"
        }
      },
      "source": [
        "import time\n",
        "\n",
        "afficheDate(tempsEnDate(secondeEnTemps(int(time.time()))))\n",
        "print(time.gmtime(time.time()))"
      ],
      "execution_count": 9,
      "outputs": [
        {
          "output_type": "stream",
          "name": "stdout",
          "text": [
            "Année 2020  336 jours 22 heures 2 minutes 56 secondes\ntime.struct_time(tm_year=2020, tm_mon=11, tm_mday=20, tm_hour=22, tm_min=2, tm_sec=56, tm_wday=4, tm_yday=325, tm_isdst=0)\n"
          ]
        }
      ]
    },
    {
      "cell_type": "code",
      "metadata": {
        "id": "rFP6ubbQOnPR",
        "outputId": "8e97603a-2c26-46cd-d03b-77411147d52f",
        "colab": {
          "base_uri": "https://localhost:8080/"
        }
      },
      "source": [
        "def bisextile(jour):\n",
        "  annee = 1970\n",
        "  while(jour >= 0):\n",
        "    if(annee % 4 == 0 and (annee % 100 != 0 or annee % 400 == 0)):\n",
        "      print(\"Année\",annee,\"bisextile\")\n",
        "      jour -= 366\n",
        "    else:  \n",
        "      jour -= 365\n",
        "    annee +=1\n",
        "\n",
        "bisextile(20000)\n"
      ],
      "execution_count": 10,
      "outputs": [
        {
          "output_type": "stream",
          "name": "stdout",
          "text": [
            "Année 1972 bisextile\nAnnée 1976 bisextile\nAnnée 1980 bisextile\nAnnée 1984 bisextile\nAnnée 1988 bisextile\nAnnée 1992 bisextile\nAnnée 1996 bisextile\nAnnée 2000 bisextile\nAnnée 2004 bisextile\nAnnée 2008 bisextile\nAnnée 2012 bisextile\nAnnée 2016 bisextile\nAnnée 2020 bisextile\nAnnée 2024 bisextile\n"
          ]
        }
      ]
    },
    {
      "cell_type": "code",
      "metadata": {
        "id": "3UgIdIb4QaMM",
        "outputId": "ee69fb72-45c2-48cd-d2d2-4290c43e1983",
        "colab": {
          "base_uri": "https://localhost:8080/"
        }
      },
      "source": [
        "def nombreBisextile(jour):\n",
        "    annee = 1970\n",
        "    b = 0\n",
        "    while(jour >= 0):\n",
        "        if(annee % 4 == 0 and (annee % 100 != 0 or annee % 400 == 0)):\n",
        "          b+= 1\n",
        "          jour -= 366\n",
        "        else:\n",
        "          jour -= 365\n",
        "        annee+= 1 \n",
        "    return b\n",
        "\n",
        "def tempsEnDateBisextile(temps):\n",
        "    jour, heure, minute, seconde = temps\n",
        "    return tempsEnDate((jour - nombreBisextile(jour),heure,minute,seconde))\n",
        "   \n",
        "temps = secondeEnTemps(1000000000)\n",
        "afficheTemps(temps)\n",
        "afficheDate(tempsEnDateBisextile(temps))\n",
        "\n"
      ],
      "execution_count": 11,
      "outputs": [
        {
          "output_type": "stream",
          "name": "stdout",
          "text": [
            " 11574 jours 1 heure 46 minutes 40 secondes\nAnnée 2001  251 jours 1 heure 46 minutes 40 secondes\n"
          ]
        }
      ]
    },
    {
      "cell_type": "code",
      "metadata": {
        "id": "9ntChVbwTHJc",
        "outputId": "c7162b9d-e3fa-4fd0-a4e1-18d6149d796f",
        "colab": {
          "base_uri": "https://localhost:8080/"
        }
      },
      "source": [
        "def verifie(liste_temps):\n",
        "    if(len(liste_temps) != 4):\n",
        "        print(\"Liste mal formée\")\n",
        "        return False\n",
        "    temps_total = 0\n",
        "    for elem in liste_temps:\n",
        "        if(tempsEnSeconde(elem) > tempsEnSeconde((0,48,0,0))):\n",
        "          return False\n",
        "        temps_total += tempsEnSeconde(elem)\n",
        "    return temps_total <= tempsEnSeconde((0,140,0,0))\n",
        "\n",
        "liste_temps = [[1,2,39,34],[0,1,9,4],[0,29,39,51],[0,31,13,46]]\n",
        "verifie(liste_temps)\n"
      ],
      "execution_count": null,
      "outputs": [
        {
          "output_type": "execute_result",
          "data": {
            "text/plain": [
              "True"
            ]
          },
          "metadata": {
            "tags": []
          },
          "execution_count": 31
        }
      ]
    }
  ]
}